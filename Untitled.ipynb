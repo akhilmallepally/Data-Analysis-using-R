{
 "cells": [
  {
   "cell_type": "code",
   "execution_count": 1,
   "id": "charming-recovery",
   "metadata": {},
   "outputs": [
    {
     "name": "stderr",
     "output_type": "stream",
     "text": [
      "Installing package into 'C:/Users/S542403/Documents/R/win-library/4.0'\n",
      "(as 'lib' is unspecified)\n",
      "\n"
     ]
    },
    {
     "name": "stdout",
     "output_type": "stream",
     "text": [
      "package 'tidyverse' successfully unpacked and MD5 sums checked\n",
      "\n",
      "The downloaded binary packages are in\n",
      "\tC:\\Users\\S542403\\AppData\\Local\\Temp\\RtmpkvkFKx\\downloaded_packages\n"
     ]
    },
    {
     "name": "stderr",
     "output_type": "stream",
     "text": [
      "Installing package into 'C:/Users/S542403/Documents/R/win-library/4.0'\n",
      "(as 'lib' is unspecified)\n",
      "\n"
     ]
    },
    {
     "name": "stdout",
     "output_type": "stream",
     "text": [
      "package 'here' successfully unpacked and MD5 sums checked\n",
      "\n",
      "The downloaded binary packages are in\n",
      "\tC:\\Users\\S542403\\AppData\\Local\\Temp\\RtmpkvkFKx\\downloaded_packages\n"
     ]
    },
    {
     "name": "stderr",
     "output_type": "stream",
     "text": [
      "Installing package into 'C:/Users/S542403/Documents/R/win-library/4.0'\n",
      "(as 'lib' is unspecified)\n",
      "\n"
     ]
    },
    {
     "name": "stdout",
     "output_type": "stream",
     "text": [
      "package 'skimr' successfully unpacked and MD5 sums checked\n",
      "\n",
      "The downloaded binary packages are in\n",
      "\tC:\\Users\\S542403\\AppData\\Local\\Temp\\RtmpkvkFKx\\downloaded_packages\n"
     ]
    }
   ],
   "source": [
    "install.packages(\"tidyverse\")\n",
    "install.packages(\"here\")\n",
    "install.packages(\"skimr\")"
   ]
  },
  {
   "cell_type": "code",
   "execution_count": 2,
   "id": "rapid-nevada",
   "metadata": {},
   "outputs": [
    {
     "name": "stderr",
     "output_type": "stream",
     "text": [
      "-- \u001b[1mAttaching packages\u001b[22m ------------------------------------------------------------------------------- tidyverse 1.3.1 --\n",
      "\n",
      "\u001b[32mv\u001b[39m \u001b[34mggplot2\u001b[39m 3.3.3     \u001b[32mv\u001b[39m \u001b[34mpurrr  \u001b[39m 0.3.4\n",
      "\u001b[32mv\u001b[39m \u001b[34mtibble \u001b[39m 3.1.1     \u001b[32mv\u001b[39m \u001b[34mdplyr  \u001b[39m 1.0.5\n",
      "\u001b[32mv\u001b[39m \u001b[34mtidyr  \u001b[39m 1.1.3     \u001b[32mv\u001b[39m \u001b[34mstringr\u001b[39m 1.4.0\n",
      "\u001b[32mv\u001b[39m \u001b[34mreadr  \u001b[39m 1.4.0     \u001b[32mv\u001b[39m \u001b[34mforcats\u001b[39m 0.5.1\n",
      "\n",
      "-- \u001b[1mConflicts\u001b[22m ---------------------------------------------------------------------------------- tidyverse_conflicts() --\n",
      "\u001b[31mx\u001b[39m \u001b[34mdplyr\u001b[39m::\u001b[32mfilter()\u001b[39m masks \u001b[34mstats\u001b[39m::filter()\n",
      "\u001b[31mx\u001b[39m \u001b[34mdplyr\u001b[39m::\u001b[32mlag()\u001b[39m    masks \u001b[34mstats\u001b[39m::lag()\n",
      "\n"
     ]
    }
   ],
   "source": [
    "library(\"tidyverse\")"
   ]
  },
  {
   "cell_type": "code",
   "execution_count": 3,
   "id": "fuzzy-baltimore",
   "metadata": {},
   "outputs": [
    {
     "name": "stderr",
     "output_type": "stream",
     "text": [
      "Warning message:\n",
      "\"Missing column names filled in: 'X1' [1]\"\n",
      "\n",
      "\u001b[36m--\u001b[39m \u001b[1m\u001b[1mColumn specification\u001b[1m\u001b[22m \u001b[36m------------------------------------------------------------------------------------------------\u001b[39m\n",
      "cols(\n",
      "  X1 = \u001b[32mcol_double()\u001b[39m,\n",
      "  YEAR = \u001b[32mcol_double()\u001b[39m,\n",
      "  JAN = \u001b[32mcol_double()\u001b[39m,\n",
      "  FEB = \u001b[32mcol_double()\u001b[39m,\n",
      "  MAR = \u001b[32mcol_double()\u001b[39m,\n",
      "  APR = \u001b[32mcol_double()\u001b[39m,\n",
      "  MAY = \u001b[32mcol_double()\u001b[39m,\n",
      "  JUN = \u001b[32mcol_double()\u001b[39m,\n",
      "  JUL = \u001b[32mcol_double()\u001b[39m,\n",
      "  AUG = \u001b[32mcol_double()\u001b[39m,\n",
      "  SEP = \u001b[32mcol_double()\u001b[39m,\n",
      "  OCT = \u001b[32mcol_double()\u001b[39m,\n",
      "  NOV = \u001b[32mcol_double()\u001b[39m,\n",
      "  DEC = \u001b[32mcol_double()\u001b[39m\n",
      ")\n",
      "\n",
      "\n"
     ]
    }
   ],
   "source": [
    "weather_df <- read_csv(\"weather.csv\")"
   ]
  },
  {
   "cell_type": "code",
   "execution_count": 4,
   "id": "incident-ivory",
   "metadata": {},
   "outputs": [
    {
     "name": "stdout",
     "output_type": "stream",
     "text": [
      "Rows: 117\n",
      "Columns: 14\n",
      "$ X1   \u001b[3m\u001b[90m<dbl>\u001b[39m\u001b[23m 0, 1, 2, 3, 4, 5, 6, 7, 8, 9, 10, 11, 12, 13, 14, 15, 16, 17, 18,~\n",
      "$ YEAR \u001b[3m\u001b[90m<dbl>\u001b[39m\u001b[23m 1901, 1902, 1903, 1904, 1905, 1906, 1907, 1908, 1909, 1910, 1911,~\n",
      "$ JAN  \u001b[3m\u001b[90m<dbl>\u001b[39m\u001b[23m 17.99, 19.00, 18.32, 17.77, 17.40, 17.50, 19.27, 18.35, 17.79, 18~\n",
      "$ FEB  \u001b[3m\u001b[90m<dbl>\u001b[39m\u001b[23m 19.43, 20.39, 19.79, 19.39, 17.79, 19.14, 19.42, 19.73, 19.05, 19~\n",
      "$ MAR  \u001b[3m\u001b[90m<dbl>\u001b[39m\u001b[23m 23.49, 24.10, 22.46, 22.95, 21.78, 22.21, 22.03, 22.93, 23.40, 22~\n",
      "$ APR  \u001b[3m\u001b[90m<dbl>\u001b[39m\u001b[23m 26.41, 26.54, 26.03, 26.73, 24.84, 26.53, 26.98, 27.06, 25.76, 25~\n",
      "$ MAY  \u001b[3m\u001b[90m<dbl>\u001b[39m\u001b[23m 28.28, 28.68, 27.93, 27.83, 28.32, 29.06, 27.52, 28.07, 27.97, 28~\n",
      "$ JUN  \u001b[3m\u001b[90m<dbl>\u001b[39m\u001b[23m 28.60, 28.44, 28.41, 27.85, 28.69, 28.02, 27.66, 28.49, 27.67, 27~\n",
      "$ JUL  \u001b[3m\u001b[90m<dbl>\u001b[39m\u001b[23m 27.49, 27.29, 28.04, 26.84, 27.67, 27.46, 27.28, 27.16, 26.56, 26~\n",
      "$ AUG  \u001b[3m\u001b[90m<dbl>\u001b[39m\u001b[23m 26.98, 27.05, 26.63, 26.73, 27.47, 26.82, 26.38, 26.41, 26.43, 26~\n",
      "$ SEP  \u001b[3m\u001b[90m<dbl>\u001b[39m\u001b[23m 26.26, 25.95, 26.34, 25.84, 26.29, 26.23, 26.26, 25.74, 25.47, 25~\n",
      "$ OCT  \u001b[3m\u001b[90m<dbl>\u001b[39m\u001b[23m 25.08, 24.37, 24.57, 24.36, 26.16, 24.75, 24.72, 24.25, 24.37, 24~\n",
      "$ NOV  \u001b[3m\u001b[90m<dbl>\u001b[39m\u001b[23m 21.73, 21.33, 20.96, 21.07, 22.07, 21.93, 22.11, 21.06, 22.01, 20~\n",
      "$ DEC  \u001b[3m\u001b[90m<dbl>\u001b[39m\u001b[23m 18.95, 18.78, 18.29, 18.84, 18.71, 19.55, 18.46, 18.15, 18.86, 18~\n"
     ]
    }
   ],
   "source": [
    "glimpse(weather_df)"
   ]
  },
  {
   "cell_type": "code",
   "execution_count": null,
   "id": "parallel-caribbean",
   "metadata": {},
   "outputs": [],
   "source": []
  }
 ],
 "metadata": {
  "kernelspec": {
   "display_name": "R",
   "language": "R",
   "name": "ir"
  },
  "language_info": {
   "codemirror_mode": "r",
   "file_extension": ".r",
   "mimetype": "text/x-r-source",
   "name": "R",
   "pygments_lexer": "r",
   "version": "4.0.5"
  }
 },
 "nbformat": 4,
 "nbformat_minor": 5
}
